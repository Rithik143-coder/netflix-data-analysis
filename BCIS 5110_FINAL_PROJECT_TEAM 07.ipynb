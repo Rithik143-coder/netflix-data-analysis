{
 "cells": [
  {
   "cell_type": "markdown",
   "id": "52637343",
   "metadata": {},
   "source": [
    "<center><font size = 5><B>BCIS 5110 - PROGRAMMING LANGUAGES FOR BUSINESS ANALYTICS</B></font></center>"
   ]
  },
  {
   "cell_type": "markdown",
   "id": "4dde90f8",
   "metadata": {},
   "source": [
    "# <center><font size=5>Final Project - Group 7</font></center>"
   ]
  },
  {
   "cell_type": "markdown",
   "id": "e143552a",
   "metadata": {},
   "source": [
    "<center><font size=5><B>Netflix Data Analysis</B></font></center>"
   ]
  },
  {
   "cell_type": "markdown",
   "id": "3d119dcd",
   "metadata": {},
   "source": [
    "<B><font size=3>Team Members:</font></B><br>\n",
    
    "<B>1. Rithik Reddy Kunti - 11594218</B><br>\n",
    
   ]
  },
  {
   "cell_type": "markdown",
   "id": "786e8c8b",
   "metadata": {},
   "source": [
    "# Overview\n",
    "\n",
    "\n",
    "Media and entertainment has become an integrated part of the lives of people, meaning that people nowadays are very enthusiastic about trying new content in terms of watching it and choosing it. With the OTT platforms, it has become very convenient for people to choose and watch any kind of content at their comfort space and time. As people are widely using OTT platforms, especially Netflix, there is a lot of data being collected by this organisation which in turn is used to improve user experience by analysing patterns and recommending the best content that matches their taste. \n",
    "As a part of this assignment, I have tried to dig into some patterns of Movies & TV shows from a subset of Netflix data. Understand the trends in movies/shows based on region, duration and ratings. "
   ]
  },
  {
   "cell_type": "markdown",
   "id": "c95bfbe8",
   "metadata": {},
   "source": [
    "# Goals\n",
    "\n",
    "\n",
    "1.\tUnderstand the data and clean the data.\n",
    "2.\tImpute the missing values in the dataset appropriately.\n",
    "3.\tFind interesting patterns in the dataset"
   ]
  },
  {
   "cell_type": "markdown",
   "id": "b3556992",
   "metadata": {},
   "source": [
    "Importing necessary libraries for analysis"
   ]
  },
  {
   "cell_type": "code",
   "execution_count": 1,
   "id": "559d84b4",
   "metadata": {},
   "outputs": [],
   "source": [
    "import pandas as pd\n",
    "import numpy as np"
   ]
  },
  {
   "cell_type": "markdown",
   "id": "413c9def",
   "metadata": {},
   "source": [
    "Reading \"netflix_titles_modified.csv\" dataset which have 1500 rows of data."
   ]
  },
  {
   "cell_type": "code",
   "execution_count": 2,
   "id": "169a6674",
   "metadata": {},
   "outputs": [
    {
     "data": {
      "text/html": [
       "<div>\n",
       "<style scoped>\n",
       "    .dataframe tbody tr th:only-of-type {\n",
       "        vertical-align: middle;\n",
       "    }\n",
       "\n",
       "    .dataframe tbody tr th {\n",
       "        vertical-align: top;\n",
       "    }\n",
       "\n",
       "    .dataframe thead th {\n",
       "        text-align: right;\n",
       "    }\n",
       "</style>\n",
       "<table border=\"1\" class=\"dataframe\">\n",
       "  <thead>\n",
       "    <tr style=\"text-align: right;\">\n",
       "      <th></th>\n",
       "      <th>Unnamed: 0</th>\n",
       "      <th>show_id</th>\n",
       "      <th>type</th>\n",
       "      <th>title</th>\n",
       "      <th>director</th>\n",
       "      <th>cast</th>\n",
       "      <th>country</th>\n",
       "      <th>date_added</th>\n",
       "      <th>release_year</th>\n",
       "      <th>rating</th>\n",
       "      <th>duration</th>\n",
       "      <th>listed_in</th>\n",
       "      <th>description</th>\n",
       "    </tr>\n",
       "  </thead>\n",
       "  <tbody>\n",
       "    <tr>\n",
       "      <th>0</th>\n",
       "      <td>0</td>\n",
       "      <td>s1</td>\n",
       "      <td>Movie</td>\n",
       "      <td>Dick Johnson Is Dead</td>\n",
       "      <td>Kirsten Johnson</td>\n",
       "      <td>NaN</td>\n",
       "      <td>United States</td>\n",
       "      <td>September 25, 2021</td>\n",
       "      <td>2020.0</td>\n",
       "      <td>PG-13</td>\n",
       "      <td>90 min</td>\n",
       "      <td>Documentaries</td>\n",
       "      <td>As her father nears the end of his life, filmm...</td>\n",
       "    </tr>\n",
       "    <tr>\n",
       "      <th>1</th>\n",
       "      <td>1</td>\n",
       "      <td>s2</td>\n",
       "      <td>TV Show</td>\n",
       "      <td>Blood &amp; Water</td>\n",
       "      <td>NaN</td>\n",
       "      <td>Ama Qamata, Khosi Ngema, Gail Mabalane, Thaban...</td>\n",
       "      <td>South Africa</td>\n",
       "      <td>September 24, 2021</td>\n",
       "      <td>2021.0</td>\n",
       "      <td>TV-MA</td>\n",
       "      <td>2 Seasons</td>\n",
       "      <td>International TV Shows, TV Dramas, TV Mysteries</td>\n",
       "      <td>After crossing paths at a party, a Cape Town t...</td>\n",
       "    </tr>\n",
       "    <tr>\n",
       "      <th>2</th>\n",
       "      <td>2</td>\n",
       "      <td>s3</td>\n",
       "      <td>TV Show</td>\n",
       "      <td>Ganglands</td>\n",
       "      <td>Julien Leclercq</td>\n",
       "      <td>Sami Bouajila, Tracy Gotoas, Samuel Jouy, Nabi...</td>\n",
       "      <td>NaN</td>\n",
       "      <td>September 24, 2021</td>\n",
       "      <td>2021.0</td>\n",
       "      <td>TV-MA</td>\n",
       "      <td>1 Season</td>\n",
       "      <td>Crime TV Shows, International TV Shows, TV Act...</td>\n",
       "      <td>To protect his family from a powerful drug lor...</td>\n",
       "    </tr>\n",
       "    <tr>\n",
       "      <th>3</th>\n",
       "      <td>3</td>\n",
       "      <td>s4</td>\n",
       "      <td>TV Show</td>\n",
       "      <td>Jailbirds New Orleans</td>\n",
       "      <td>NaN</td>\n",
       "      <td>NaN</td>\n",
       "      <td>NaN</td>\n",
       "      <td>September 24, 2021</td>\n",
       "      <td>2021.0</td>\n",
       "      <td>TV-MA</td>\n",
       "      <td>1 Season</td>\n",
       "      <td>Docuseries, Reality TV</td>\n",
       "      <td>Feuds, flirtations and toilet talk go down amo...</td>\n",
       "    </tr>\n",
       "    <tr>\n",
       "      <th>4</th>\n",
       "      <td>4</td>\n",
       "      <td>s5</td>\n",
       "      <td>TV Show</td>\n",
       "      <td>Kota Factory</td>\n",
       "      <td>NaN</td>\n",
       "      <td>Mayur More, Jitendra Kumar, Ranjan Raj, Alam K...</td>\n",
       "      <td>India</td>\n",
       "      <td>September 24, 2021</td>\n",
       "      <td>2021.0</td>\n",
       "      <td>TV-MA</td>\n",
       "      <td>2 Seasons</td>\n",
       "      <td>International TV Shows, Romantic TV Shows, TV ...</td>\n",
       "      <td>In a city of coaching centers known to train I...</td>\n",
       "    </tr>\n",
       "    <tr>\n",
       "      <th>...</th>\n",
       "      <td>...</td>\n",
       "      <td>...</td>\n",
       "      <td>...</td>\n",
       "      <td>...</td>\n",
       "      <td>...</td>\n",
       "      <td>...</td>\n",
       "      <td>...</td>\n",
       "      <td>...</td>\n",
       "      <td>...</td>\n",
       "      <td>...</td>\n",
       "      <td>...</td>\n",
       "      <td>...</td>\n",
       "      <td>...</td>\n",
       "    </tr>\n",
       "    <tr>\n",
       "      <th>1495</th>\n",
       "      <td>1495</td>\n",
       "      <td>s1496</td>\n",
       "      <td>Movie</td>\n",
       "      <td>Bridezilla</td>\n",
       "      <td>Andibachtiar Yusuf</td>\n",
       "      <td>Jessica Mila, Rio Dewanto, Sheila Dara, Rafael...</td>\n",
       "      <td>Indonesia</td>\n",
       "      <td>December 24, 2020</td>\n",
       "      <td>2019.0</td>\n",
       "      <td>TV-MA</td>\n",
       "      <td>94 min</td>\n",
       "      <td>Comedies, Dramas, International Movies</td>\n",
       "      <td>After failing to deliver for a demanding bride...</td>\n",
       "    </tr>\n",
       "    <tr>\n",
       "      <th>1496</th>\n",
       "      <td>1496</td>\n",
       "      <td>s1497</td>\n",
       "      <td>Movie</td>\n",
       "      <td>Cemara's Family</td>\n",
       "      <td>Yandy Laurens</td>\n",
       "      <td>Ringgo Agus Rahman, Nirina Zubir, Zara JKT48, ...</td>\n",
       "      <td>Indonesia</td>\n",
       "      <td>December 24, 2020</td>\n",
       "      <td>2018.0</td>\n",
       "      <td>TV-G</td>\n",
       "      <td>110 min</td>\n",
       "      <td>Children &amp; Family Movies, Dramas, Internationa...</td>\n",
       "      <td>After bankruptcy, Abah and Emak must adapt to ...</td>\n",
       "    </tr>\n",
       "    <tr>\n",
       "      <th>1497</th>\n",
       "      <td>1497</td>\n",
       "      <td>s1498</td>\n",
       "      <td>Movie</td>\n",
       "      <td>Hello, Love, Goodbye</td>\n",
       "      <td>Cathy Garcia-Molina</td>\n",
       "      <td>Kathryn Bernardo, Alden Richards, Maymay Entra...</td>\n",
       "      <td>Philippines</td>\n",
       "      <td>December 24, 2020</td>\n",
       "      <td>2019.0</td>\n",
       "      <td>TV-14</td>\n",
       "      <td>117 min</td>\n",
       "      <td>Dramas, International Movies, Romantic Movies</td>\n",
       "      <td>In Hong Kong, the lives of two overseas Filipi...</td>\n",
       "    </tr>\n",
       "    <tr>\n",
       "      <th>1498</th>\n",
       "      <td>1498</td>\n",
       "      <td>s1499</td>\n",
       "      <td>Movie</td>\n",
       "      <td>The History of Future Folk</td>\n",
       "      <td>John Mitchell, Jeremy Kipp Walker</td>\n",
       "      <td>Nils d'Aulaire, Jay Klaitz, Julie Ann Emery, A...</td>\n",
       "      <td>United States</td>\n",
       "      <td>December 23, 2020</td>\n",
       "      <td>2012.0</td>\n",
       "      <td>TV-14</td>\n",
       "      <td>85 min</td>\n",
       "      <td>Action &amp; Adventure, Comedies, Independent Movies</td>\n",
       "      <td>An alien ordered to colonize Earth abandons hi...</td>\n",
       "    </tr>\n",
       "    <tr>\n",
       "      <th>1499</th>\n",
       "      <td>1499</td>\n",
       "      <td>s1500</td>\n",
       "      <td>Movie</td>\n",
       "      <td>The Midnight Sky</td>\n",
       "      <td>George Clooney</td>\n",
       "      <td>George Clooney, Felicity Jones, Kyle Chandler,...</td>\n",
       "      <td>United States</td>\n",
       "      <td>December 23, 2020</td>\n",
       "      <td>2020.0</td>\n",
       "      <td>PG-13</td>\n",
       "      <td>119 min</td>\n",
       "      <td>Dramas</td>\n",
       "      <td>In the aftermath of a global catastrophe, a lo...</td>\n",
       "    </tr>\n",
       "  </tbody>\n",
       "</table>\n",
       "<p>1500 rows × 13 columns</p>\n",
       "</div>"
      ],
      "text/plain": [
       "      Unnamed: 0 show_id     type                       title  \\\n",
       "0              0      s1    Movie        Dick Johnson Is Dead   \n",
       "1              1      s2  TV Show               Blood & Water   \n",
       "2              2      s3  TV Show                   Ganglands   \n",
       "3              3      s4  TV Show       Jailbirds New Orleans   \n",
       "4              4      s5  TV Show                Kota Factory   \n",
       "...          ...     ...      ...                         ...   \n",
       "1495        1495   s1496    Movie                  Bridezilla   \n",
       "1496        1496   s1497    Movie             Cemara's Family   \n",
       "1497        1497   s1498    Movie        Hello, Love, Goodbye   \n",
       "1498        1498   s1499    Movie  The History of Future Folk   \n",
       "1499        1499   s1500    Movie            The Midnight Sky   \n",
       "\n",
       "                               director  \\\n",
       "0                       Kirsten Johnson   \n",
       "1                                   NaN   \n",
       "2                       Julien Leclercq   \n",
       "3                                   NaN   \n",
       "4                                   NaN   \n",
       "...                                 ...   \n",
       "1495                 Andibachtiar Yusuf   \n",
       "1496                      Yandy Laurens   \n",
       "1497                Cathy Garcia-Molina   \n",
       "1498  John Mitchell, Jeremy Kipp Walker   \n",
       "1499                     George Clooney   \n",
       "\n",
       "                                                   cast        country  \\\n",
       "0                                                   NaN  United States   \n",
       "1     Ama Qamata, Khosi Ngema, Gail Mabalane, Thaban...   South Africa   \n",
       "2     Sami Bouajila, Tracy Gotoas, Samuel Jouy, Nabi...            NaN   \n",
       "3                                                   NaN            NaN   \n",
       "4     Mayur More, Jitendra Kumar, Ranjan Raj, Alam K...          India   \n",
       "...                                                 ...            ...   \n",
       "1495  Jessica Mila, Rio Dewanto, Sheila Dara, Rafael...      Indonesia   \n",
       "1496  Ringgo Agus Rahman, Nirina Zubir, Zara JKT48, ...      Indonesia   \n",
       "1497  Kathryn Bernardo, Alden Richards, Maymay Entra...    Philippines   \n",
       "1498  Nils d'Aulaire, Jay Klaitz, Julie Ann Emery, A...  United States   \n",
       "1499  George Clooney, Felicity Jones, Kyle Chandler,...  United States   \n",
       "\n",
       "              date_added  release_year rating   duration  \\\n",
       "0     September 25, 2021        2020.0  PG-13     90 min   \n",
       "1     September 24, 2021        2021.0  TV-MA  2 Seasons   \n",
       "2     September 24, 2021        2021.0  TV-MA   1 Season   \n",
       "3     September 24, 2021        2021.0  TV-MA   1 Season   \n",
       "4     September 24, 2021        2021.0  TV-MA  2 Seasons   \n",
       "...                  ...           ...    ...        ...   \n",
       "1495   December 24, 2020        2019.0  TV-MA     94 min   \n",
       "1496   December 24, 2020        2018.0   TV-G    110 min   \n",
       "1497   December 24, 2020        2019.0  TV-14    117 min   \n",
       "1498   December 23, 2020        2012.0  TV-14     85 min   \n",
       "1499   December 23, 2020        2020.0  PG-13    119 min   \n",
       "\n",
       "                                              listed_in  \\\n",
       "0                                         Documentaries   \n",
       "1       International TV Shows, TV Dramas, TV Mysteries   \n",
       "2     Crime TV Shows, International TV Shows, TV Act...   \n",
       "3                                Docuseries, Reality TV   \n",
       "4     International TV Shows, Romantic TV Shows, TV ...   \n",
       "...                                                 ...   \n",
       "1495             Comedies, Dramas, International Movies   \n",
       "1496  Children & Family Movies, Dramas, Internationa...   \n",
       "1497      Dramas, International Movies, Romantic Movies   \n",
       "1498   Action & Adventure, Comedies, Independent Movies   \n",
       "1499                                             Dramas   \n",
       "\n",
       "                                            description  \n",
       "0     As her father nears the end of his life, filmm...  \n",
       "1     After crossing paths at a party, a Cape Town t...  \n",
       "2     To protect his family from a powerful drug lor...  \n",
       "3     Feuds, flirtations and toilet talk go down amo...  \n",
       "4     In a city of coaching centers known to train I...  \n",
       "...                                                 ...  \n",
       "1495  After failing to deliver for a demanding bride...  \n",
       "1496  After bankruptcy, Abah and Emak must adapt to ...  \n",
       "1497  In Hong Kong, the lives of two overseas Filipi...  \n",
       "1498  An alien ordered to colonize Earth abandons hi...  \n",
       "1499  In the aftermath of a global catastrophe, a lo...  \n",
       "\n",
       "[1500 rows x 13 columns]"
      ]
     },
     "execution_count": 2,
     "metadata": {},
     "output_type": "execute_result"
    }
   ],
   "source": [
    "df = pd.read_csv(\"Netflix_Dataset_Group-7.csv\")\n",
    "df = df.head(1500)\n",
    "df"
   ]
  },
  {
   "cell_type": "markdown",
   "id": "2518e579",
   "metadata": {},
   "source": [
    "# Data description"
   ]
  },
  {
   "cell_type": "markdown",
   "id": "391fddad",
   "metadata": {},
   "source": [
    "The dataset has following columns : \n",
    "\n",
    "1.show_id - Unique ID given to identify each title. (String)\n",
    "\n",
    "\n",
    "2.type - Categorical column mentioning whether it is a movie or a show. (String)\n",
    "\n",
    "\n",
    "3.title - Name of movie or show. (String)\n",
    "\n",
    "\n",
    "4.director - Name of the Director. (String)\n",
    "\n",
    "\n",
    "5.cast - Actors in the movie/show. (String)\n",
    "\n",
    "\n",
    "6.country - Country where content was made. (String)\n",
    "\n",
    "\n",
    "7.date_added - The date when the movie/show is added on Netflix. (String)\n",
    "\n",
    "\n",
    "8.release_year - The year when the movie/show was released. (Integer)\n",
    "\n",
    "\n",
    "9.rating - Rating given by the MPAA. (String)\n",
    "\n",
    "\n",
    "10.duration - Duration of movie/show. (String)\n",
    "\n",
    "\n",
    "11.listed_in - Genres under which the movie/show is listed. (String)\n",
    "\n",
    "\n",
    "12.description  - Short summary of the movie/show. (String)\n",
    "\n",
    "    \n",
    "The dataset has information about 1500 titles."
   ]
  },
  {
   "cell_type": "markdown",
   "id": "7a499c5f",
   "metadata": {},
   "source": [
    "Reading datatypes for analysis"
   ]
  },
  {
   "cell_type": "code",
   "execution_count": 3,
   "id": "600ae6a7",
   "metadata": {},
   "outputs": [
    {
     "data": {
      "text/plain": [
       "Unnamed: 0        int64\n",
       "show_id          object\n",
       "type             object\n",
       "title            object\n",
       "director         object\n",
       "cast             object\n",
       "country          object\n",
       "date_added       object\n",
       "release_year    float64\n",
       "rating           object\n",
       "duration         object\n",
       "listed_in        object\n",
       "description      object\n",
       "dtype: object"
      ]
     },
     "execution_count": 3,
     "metadata": {},
     "output_type": "execute_result"
    }
   ],
   "source": [
    "df.dtypes"
   ]
  },
  {
   "cell_type": "markdown",
   "id": "8feaf1c4",
   "metadata": {},
   "source": [
    "# Data Cleaning\n",
    "\n",
    "\n",
    "The data given has 12 columns out of which 11 columns are strings, but the underlying data type has to change understanding the data description\n"
   ]
  },
  {
   "cell_type": "code",
   "execution_count": 4,
   "id": "608ab8db",
   "metadata": {},
   "outputs": [],
   "source": [
    "## Data Cleaning\n",
    "df[\"cast\"] = df['cast'].str.strip('()').str.split(',')\n",
    "df[\"country\"] = df['country'].str.strip('()').str.split(',')\n",
    "\n",
    "df[\"year_added\"] = df[\"date_added\"].str.split(',').str[1]\n",
    "df[\"month_added\"] = df[\"date_added\"].str.split(',').str[0]\n",
    "\n",
    "df[\"date_only_added\"] = df[\"date_added\"].str.split(',').str[0]\n",
    "df[\"date_only_added\"] = df[\"date_only_added\"].str.extract('(\\d+)')\n",
    "\n",
    "df['duration'] = df['duration'].str.extract('(\\d+)').astype(int) ## Minutes for Movies & seasons for Shows\n",
    "df[\"listed_in\"] = df['listed_in'].str.strip('()').str.split(',')"
   ]
  },
  {
   "cell_type": "markdown",
   "id": "26c286b7",
   "metadata": {},
   "source": [
    "1.The data type of cast is changed to \"List of strings\"\n",
    "\n",
    "\n",
    "2.The data type of country is changed to \"List of strings\"\n",
    "\n",
    "\n",
    "3.The data type of year_added, month_added, date_only_added\tare changed to \"Get year,month & date from date_added column into new columns\".\n",
    "\n",
    "\n",
    "4.The data type of duration is changed to \"Integer\" (number of min/ seasons).\n",
    "\n",
    "\n",
    "5.The data type of listed_in is changed to \"List of strings\""
   ]
  },
  {
   "cell_type": "markdown",
   "id": "794c5735",
   "metadata": {},
   "source": [
    "# Imputing Missing Values\n",
    "\n",
    "\n",
    "The dataset has missing values also known as null values in a few columns. Here are the details regarding null values in the dataset."
   ]
  },
  {
   "cell_type": "code",
   "execution_count": 5,
   "id": "3b2189ba",
   "metadata": {},
   "outputs": [
    {
     "data": {
      "text/plain": [
       "Unnamed: 0           0\n",
       "show_id              0\n",
       "type                 0\n",
       "title                0\n",
       "director           480\n",
       "cast               152\n",
       "country            360\n",
       "date_added           0\n",
       "release_year        30\n",
       "rating               0\n",
       "duration             0\n",
       "listed_in            0\n",
       "description          0\n",
       "year_added           0\n",
       "month_added          0\n",
       "date_only_added      0\n",
       "dtype: int64"
      ]
     },
     "execution_count": 5,
     "metadata": {},
     "output_type": "execute_result"
    }
   ],
   "source": [
    "df.isnull().sum()"
   ]
  },
  {
   "cell_type": "markdown",
   "id": "e9cbeac8",
   "metadata": {},
   "source": [
    "director has 480 missing values\tof 32%.\n",
    "\n",
    "cast has 152 missing values of 10.13%.\n",
    "\n",
    "country\thas 360\tmissing values of 24%.\n",
    "\n",
    "release_year has 30 missing values of 2%."
   ]
  },
  {
   "cell_type": "markdown",
   "id": "1eff4de8",
   "metadata": {},
   "source": [
    "---director\n",
    "Since the director column is not a definitive list of objects meaning the set is not limited, we choose to ignore this column and also the missing percentage is relatively very high in this column, so we can’t drop the values.\n",
    "\n",
    "\n",
    "---cast\n",
    "For the cast column again the column is not definitive, but the missing percentage is relatively less, so we can drop those values while analyzing data using that column.\n",
    "\n",
    "\n",
    "---country\n",
    "For the country column the missing percentage is high so we can’t drop the values but we can use director & cast columns to fill in the country values. The strategy is to fill in country value from an instance where the director or cast matches.\n",
    "\n",
    "\n",
    "---released_year\n",
    "For release year the missing percentage is very less(2%), we can use mode imputing strategy. That is imputing the missing values with the most repeated value in the column."
   ]
  },
  {
   "cell_type": "code",
   "execution_count": 6,
   "id": "83bc6eb8",
   "metadata": {},
   "outputs": [
    {
     "name": "stdout",
     "output_type": "stream",
     "text": [
      "Filling missing values in release_year with 2021.0\n"
     ]
    }
   ],
   "source": [
    "# Imputing null values \n",
    "max_repeated_value = df[\"release_year\"].mode()[0]\n",
    "print(\"Filling missing values in release_year with\",max_repeated_value )\n",
    "df[\"release_year\"] = df[\"release_year\"].fillna(max_repeated_value)\n",
    "df[\"release_year\"] = df[\"release_year\"].astype(int)"
   ]
  },
  {
   "cell_type": "code",
   "execution_count": 7,
   "id": "432ad045",
   "metadata": {},
   "outputs": [
    {
     "name": "stdout",
     "output_type": "stream",
     "text": [
      "Number of countries: 73\n",
      "Number of actors: 9641\n",
      "Number of genres: 42\n"
     ]
    }
   ],
   "source": [
    "countries = df[\"country\"].dropna().apply(pd.Series).stack().reset_index(drop = True).tolist()\n",
    "countries = list(set([x.strip(' ') for x in countries]))\n",
    "print(\"Number of countries:\", len(countries))\n",
    "\n",
    "actors = df[\"cast\"].dropna().apply(pd.Series).stack().reset_index(drop = True).tolist()\n",
    "actors = list(set([x.strip(' ') for x in actors]))\n",
    "print(\"Number of actors:\", len(actors))\n",
    "\n",
    "genres = df[\"listed_in\"].dropna().apply(pd.Series).stack().reset_index(drop = True).tolist()\n",
    "genres = list(set([x.strip(' ') for x in genres]))\n",
    "print(\"Number of genres:\", len(genres))"
   ]
  },
  {
   "cell_type": "code",
   "execution_count": 8,
   "id": "fa99b546",
   "metadata": {},
   "outputs": [
    {
     "data": {
      "text/plain": [
       "Unnamed: 0         1500\n",
       "show_id            1500\n",
       "type               1500\n",
       "title              1500\n",
       "director           1020\n",
       "cast               1348\n",
       "country            1140\n",
       "date_added         1500\n",
       "release_year       1500\n",
       "rating             1500\n",
       "duration           1500\n",
       "listed_in          1500\n",
       "description        1500\n",
       "year_added         1500\n",
       "month_added        1500\n",
       "date_only_added    1500\n",
       "dtype: int64"
      ]
     },
     "execution_count": 8,
     "metadata": {},
     "output_type": "execute_result"
    }
   ],
   "source": [
    "df.count()"
   ]
  },
  {
   "cell_type": "code",
   "execution_count": 9,
   "id": "eb8591dd",
   "metadata": {},
   "outputs": [
    {
     "data": {
      "text/plain": [
       "type\n",
       "Movie      985\n",
       "TV Show    515\n",
       "Name: title, dtype: int64"
      ]
     },
     "execution_count": 9,
     "metadata": {},
     "output_type": "execute_result"
    }
   ],
   "source": [
    "# 1.number of movies & TV Shows\n",
    "df1 = df.groupby(\"type\")[\"title\"].count()\n",
    "df1.head()"
   ]
  },
  {
   "cell_type": "code",
   "execution_count": 10,
   "id": "66672aa9",
   "metadata": {},
   "outputs": [],
   "source": [
    "df_movies = df[df[\"type\"] == \"Movie\"].copy()\n",
    "df_tv = df[df[\"type\"] == \"TV Show\"].copy()"
   ]
  },
  {
   "cell_type": "code",
   "execution_count": 11,
   "id": "73989cb5",
   "metadata": {},
   "outputs": [
    {
     "data": {
      "text/plain": [
       "50"
      ]
     },
     "execution_count": 11,
     "metadata": {},
     "output_type": "execute_result"
    }
   ],
   "source": [
    "len(df[\"release_year\"].unique())"
   ]
  },
  {
   "cell_type": "markdown",
   "id": "f1465460",
   "metadata": {},
   "source": [
    "# Finding Interesting patterns in the data\n",
    "\n",
    "\n",
    "The dataset has 1500 unique titles, filmed across 73 countries with over 9641 actors in 42 genres, where 985 of them are movies & 515 of them are TV shows released over the past 53 years.. "
   ]
  },
  {
   "cell_type": "markdown",
   "id": "9b3c9ace",
   "metadata": {},
   "source": [
    "# 1.\tWhat are the top countries that produce content"
   ]
  },
  {
   "cell_type": "code",
   "execution_count": 12,
   "id": "1e077074",
   "metadata": {},
   "outputs": [
    {
     "data": {
      "text/plain": [
       "<AxesSubplot:xlabel='country'>"
      ]
     },
     "execution_count": 12,
     "metadata": {},
     "output_type": "execute_result"
    },
    {
     "data": {
      "image/png": "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\n",
      "text/plain": [
       "<Figure size 432x360 with 1 Axes>"
      ]
     },
     "metadata": {
      "needs_background": "light"
     },
     "output_type": "display_data"
    },
    {
     "data": {
      "image/png": "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\n",
      "text/plain": [
       "<Figure size 432x360 with 1 Axes>"
      ]
     },
     "metadata": {
      "needs_background": "light"
     },
     "output_type": "display_data"
    }
   ],
   "source": [
    "#1. What are the top countries that produce content \n",
    "new_df = df.explode('country')\n",
    "new_df['country'] = new_df['country'].str.lstrip()\n",
    "new_df = pd.crosstab(\n",
    "    new_df['country'], new_df['type']\n",
    ").reset_index().set_index(\"country\").rename_axis(columns=None)\n",
    "new_df_movies = new_df[[\"Movie\"]].sort_values([\"Movie\"],ascending=False)\n",
    "new_df_tv = new_df[[\"TV Show\"]].sort_values([\"TV Show\"],ascending=False)\n",
    "\n",
    "new_df_movies.head(10).plot.bar(color='red',figsize=(6,5))\n",
    "new_df_tv.head(10).plot.bar(color = 'red',figsize=(6,5))"
   ]
  },
  {
   "cell_type": "code",
   "execution_count": 13,
   "id": "04c1a510",
   "metadata": {},
   "outputs": [
    {
     "data": {
      "text/plain": [
       "<AxesSubplot:ylabel='TV Show'>"
      ]
     },
     "execution_count": 13,
     "metadata": {},
     "output_type": "execute_result"
    },
    {
     "data": {
      "image/png": "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\n",
      "text/plain": [
       "<Figure size 360x360 with 1 Axes>"
      ]
     },
     "metadata": {},
     "output_type": "display_data"
    },
    {
     "data": {
      "image/png": "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\n",
      "text/plain": [
       "<Figure size 360x360 with 1 Axes>"
      ]
     },
     "metadata": {},
     "output_type": "display_data"
    }
   ],
   "source": [
    "new_df_movies.head(10).plot.pie(y='Movie', figsize=(5, 5))\n",
    "new_df_tv.head(10).plot.pie(y='TV Show', figsize=(5, 5))"
   ]
  },
  {
   "cell_type": "markdown",
   "id": "7163ff90",
   "metadata": {},
   "source": [
    "# Conclusion for question 1 : \n",
    "\n",
    "The United States tops in producing content in both Movies and TV Series. But Second position for movies is taken by India & for TV shows  by the United Kingdom. We can see in the following plots the top ten countries producing movies and TV shows. Few countries produce more content through movies compared to TV shows and few countries vice-versa. \n",
    "For example France,Germany,Nigeria and Turkey focus on movie content whereas South Korea,Mexico,Australia focus more on TV shows."
   ]
  },
  {
   "cell_type": "markdown",
   "id": "dc8dfb10",
   "metadata": {},
   "source": [
    "# 2.\tHow did content progress with time"
   ]
  },
  {
   "cell_type": "code",
   "execution_count": 14,
   "id": "5096b128",
   "metadata": {},
   "outputs": [
    {
     "data": {
      "text/plain": [
       "<AxesSubplot:xlabel='release_year'>"
      ]
     },
     "execution_count": 14,
     "metadata": {},
     "output_type": "execute_result"
    },
    {
     "data": {
      "image/png": "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\n",
      "text/plain": [
       "<Figure size 720x288 with 1 Axes>"
      ]
     },
     "metadata": {
      "needs_background": "light"
     },
     "output_type": "display_data"
    }
   ],
   "source": [
    "#2 How did content progress with time\n",
    "df_m = pd.DataFrame(df_movies.groupby([\"release_year\"])[\"title\"].count())\n",
    "df_t = pd.DataFrame(df_tv.groupby([\"release_year\"])[\"title\"].count())\n",
    "df2 = df_m.merge(df_t,on=['release_year'],how=\"outer\")\n",
    "df2 = df2.rename(columns={'title_x': 'Movie','title_y': 'TV Show'})\n",
    "df2 = df2.fillna(0).sort_values([\"release_year\"],ascending=False)\n",
    "df2 = df2.reset_index().set_index(\"release_year\")\n",
    "df2.head(20).plot.bar(color = {\"red\",\"black\"},figsize=(10,4))\n",
    "# df2.tail(10).plot.bar(color = {\"red\",\"black\"},figsize=(6,3))"
   ]
  },
  {
   "cell_type": "markdown",
   "id": "30f5fed9",
   "metadata": {},
   "source": [
    "# Conclusion for question 2 : \n",
    "    \n",
    "The trend shows that the content produced in both movies and TV shows has been increasing exponentially in the past 20 years. In 2021 the number of TV shows released crossed the number of movies, showing in future TV shows could go a long way. Even though movies have existed for a very long time, TV shows started in the 2000's have surpassed movies."
   ]
  },
  {
   "cell_type": "markdown",
   "id": "bc1b267b",
   "metadata": {},
   "source": [
    "# 3.\tWhat is average watch time across different countries"
   ]
  },
  {
   "cell_type": "code",
   "execution_count": 15,
   "id": "5d623c1c",
   "metadata": {},
   "outputs": [
    {
     "data": {
      "text/plain": [
       "<AxesSubplot:xlabel='country'>"
      ]
     },
     "execution_count": 15,
     "metadata": {},
     "output_type": "execute_result"
    },
    {
     "data": {
      "image/png": "iVBORw0KGgoAAAANSUhEUgAAAXcAAAD6CAYAAABamQdMAAAAOXRFWHRTb2Z0d2FyZQBNYXRwbG90bGliIHZlcnNpb24zLjUuMSwgaHR0cHM6Ly9tYXRwbG90bGliLm9yZy/YYfK9AAAACXBIWXMAAAsTAAALEwEAmpwYAAAhD0lEQVR4nO3deZxcVZn/8c83bIFAACFkhACJA8qagIRNEVl0AEUWFRJGgQn8DApClAHHbUjA7aeDOooLRgUChiCIbCIKIgEjm4lACNtLlqAtmISwL0ECz/xxbiXVne4sXV3nVt3+vl+vflXdW8t5envq3nPPeY4iAjMzq5YBZQdgZmZ9z8ndzKyCnNzNzCrIyd3MrIKc3M3MKsjJ3cysglaY3CWdJ2m+pDl1+yZJ+ruku4uv99U99jlJD0t6SNIBzQrczMx6phWNc5e0N/AicGFE7FDsmwS8GBFnd3nudsA0YDdgU+B3wFsj4vW+D93MzHqywiP3iLgFeHol3+9Q4JKIeDUiHgMeJiV6MzPLaPUGXvtJSccAM4H/jIhngM2A2+ue01HsW4ak8cB4gEGDBu2yzTbbNBCKmVn/M2vWrKciYkh3j/U2uf8Q+BIQxe03geMAdfPcbvt9ImIyMBlg9OjRMXPmzF6GYmbWP0l6vKfHejVaJiLmRcTrEfEG8GOWdr10AJvXPXUY8ERv2jAzs97rVXKX9Oa6zcOB2kiaq4GxktaSNALYGrizsRDNzGxVrbBbRtI0YB9gY0kdwERgH0k7kbpc5gInAETEfZIuBe4HFgMneaSMmVl+KxwKmYP73M1seV577TU6OjpYtGhR2aGUYuDAgQwbNow11lij035JsyJidHevaWS0jJlZFh0dHay33noMHz4cqbtxG9UVESxcuJCOjg5GjBix0q9rn/IDUmNfZta2Fi1axEYbbdTvEjuAJDbaaKNVPmtpn+RuZv1af0zsNb353p3czcwqyMndzNpPo920vei2lcTRRx+9ZHvx4sUMGTKEgw8+uFffwrnnnsuFF17Yq9euDF9QNTNbCYMGDWLOnDm88sorrL322txwww1stlm31VVWysc//vE+jG5ZPnI3M1tJBx10ENdeey0A06ZN46ijjlry2NNPP81hhx3GyJEj2WOPPZg9ezZvvPEGw4cP59lnn13yvK222op58+YxadIkzj47FdZ95JFHOPDAA9lll11417vexYMPPthwrE7uZmYraezYsVxyySUsWrSI2bNns/vuuy95bOLEiey8887Mnj2br371qxxzzDEMGDCAQw89lCuuuAKAO+64g+HDhzN06NBO7zt+/HjOOeccZs2axdlnn82JJ57YcKzuljEzW0kjR45k7ty5TJs2jfe9732dHpsxYwaXX345APvttx8LFy7kueeeY8yYMZx11lmMGzeOSy65hDFjxnR63Ysvvsitt97KEUccsWTfq6++2nCsTu5mZqvgkEMO4bTTTmP69OksXLhwyf7uZvtLYs899+Thhx9mwYIFXHnllXzxi1/s9Jw33niDDTbYgLvvvrtP43S3jJnZKjjuuOM444wz2HHHHTvt33vvvZk6dSoA06dPZ+ONN2bw4MFI4vDDD+fUU09l2223ZaONNur0usGDBzNixAguu+wyIH1I3HPPPQ3H6SN3M2s/JdbEGjZsGBMmTFhm/6RJkxg3bhwjR45knXXWYcqUKUseGzNmDLvuuisXXHBBt+85depUPvGJT/DlL3+Z1157jbFjxzJq1KiG4myfwmGNzk5rge/TzHrngQceYNttty07jFJ19zNYXuEwd8uYmVWQk7uZWQW5z31V9EXhIncPmfVKRPTb4mG96T73kbuZtbyBAweycOHCXiW5dler5z5w4MBVep2P3NtRK1xcbpWzmFb4WVjTDRs2jI6ODhYsWFB2KKWorcS0KpzczRrVKh90FbbGGmus0ipE5uRuVh0+i7E6Tu5m1nd8FtMynNzNrHp8FuPRMmZmVeTkbmZWQe6WMTNrhpKvP/jI3cysgpzczcwqyMndzKyCnNzNzCrIyd3MrIKc3M3MKsjJ3cysgpzczcwqyMndzKyCnNzNzCrIyd3MrIJWmNwlnSdpvqQ5dfveJOkGSX8pbjese+xzkh6W9JCkA5oVuJmZ9WxljtwvAA7ssu+zwI0RsTVwY7GNpO2AscD2xWt+IGm1PovWzMxWygqTe0TcAjzdZfehwJTi/hTgsLr9l0TEqxHxGPAwsFvfhGpmZiurt33uQyPiSYDidpNi/2bA3+qe11HsMzOzjPr6gmp3BYy7LUgsabykmZJmLliwoI/DMDPr33qb3OdJejNAcTu/2N8BbF73vGHAE929QURMjojRETF6yJAhvQzDzMy609vkfjVwbHH/WOCquv1jJa0laQSwNXBnYyGamdmqWuEye5KmAfsAG0vqACYC/x+4VNLxwF+BIwAi4j5JlwL3A4uBkyLi9SbFbmZmPVhhco+Io3p4aP8env8V4CuNBGVmZo3xDFUzswpycjczqyAndzOzCnJyNzOrICd3M7MKcnI3M6sgJ3czswpycjczqyAndzOzCnJyNzOrICd3M7MKcnI3M6sgJ3czswpycjczqyAndzOzCnJyNzOrICd3M7MKcnI3M6sgJ3czswpycjczqyAndzOzCnJyNzOrICd3M7MKcnI3M6sgJ3czswpycjczqyAndzOzCnJyNzOrICd3M7MKcnI3M6sgJ3czswpycjczqyAndzOzCnJyNzOrICd3M7MKcnI3M6sgJ3czswpavZEXS5oLvAC8DiyOiNGS3gT8HBgOzAWOjIhnGgvTzMxWRV8cue8bETtFxOhi+7PAjRGxNXBjsW1mZhk1o1vmUGBKcX8KcFgT2jAzs+VoNLkHcL2kWZLGF/uGRsSTAMXtJt29UNJ4STMlzVywYEGDYZiZWb2G+tyBd0bEE5I2AW6Q9ODKvjAiJgOTAUaPHh0NxmFmZnUaOnKPiCeK2/nAFcBuwDxJbwYobuc3GqSZma2aXid3SYMkrVe7D/wbMAe4Gji2eNqxwFWNBmlmZqumkW6ZocAVkmrvc3FE/EbSn4BLJR0P/BU4ovEwzcxsVfQ6uUfEo8CobvYvBPZvJCgzM2uMZ6iamVWQk7uZWQU5uZuZVZCTu5lZBTm5m5lVkJO7mVkFObmbmVWQk7uZWQU5uZuZVZCTu5lZBTm5m5lVkJO7mVkFObmbmVWQk7uZWQU5uZuZVZCTu5lZBTm5m5lVkJO7mVkFObmbmVWQk7uZWQU5uZuZVZCTu5lZBTm5m5lVkJO7mVkFObmbmVWQk7uZWQU5uZuZVZCTu5lZBTm5m5lVkJO7mVkFObmbmVWQk7uZWQU5uZuZVZCTu5lZBTm5m5lVkJO7mVkFNS25SzpQ0kOSHpb02Wa1Y2Zmy2pKcpe0GvB94CBgO+AoSds1oy0zM1tWs47cdwMejohHI+KfwCXAoU1qy8zMuli9Se+7GfC3uu0OYPf6J0gaD4wvNl+U9FCDbW4MPNXjo1KDb99WcbRCDK0SR+vH0CpxtEIMrRJHK8SwcnFs2dMDzUru3UUUnTYiJgOT+6xBaWZEjO6r92vnOFohhlaJwzG0VhytEEOrxNHsGJrVLdMBbF63PQx4okltmZlZF81K7n8CtpY0QtKawFjg6ia1ZWZmXTSlWyYiFkv6JPBbYDXgvIi4rxlt1emzLp4GtUIcrRADtEYcjmGpVoijFWKA1oijqTEoIlb8LDMzayueoWpmVkFO7mZmFeTkbmZWQc0a595vSBoEvBIRbxTbA4CBEfFyuZH1X5KGArsWm3dGxPwy4zErQ9tfUC3q2Ayl7oMqIv6asf3bgfdExIvF9rrA9RHxjlwx2FKSjgT+B5hOmkz3LuD0iPhF5jgGAscD2wMDa/sj4riccbQCSQcDv64dAJUYxw4RMafMGHJq6yN3SScDE4F5QO0PJ4CRGcMYWEvsABHxoqR1MrYPgKStga+RCrXVJ5O3ZI5jCPBf3cSxX6YQvgDsWjtaL+L5HZA1uQMXAQ8CBwBnAR8BHsgcQyv8PiDNc/mOpMuB8yMi+8+hcG4x7+YC4OKIeDZn45JGk/4+tyTlXgEREU3JV+3e5z4BeFtEbB8ROxZfORM7wEuS3l7bkLQL8ErmGADOB34ILAb2BS4kJZjcppKS2AjgTGAuaVJbLgO6dMMspJy/860i4r+BlyJiCvB+YMcS4ij790FEfBTYGXgEOF/SbZLGS1ovcxx7kT5kNwdmSrpY0nszhjCV9H/6IeADwMHFbXNERNt+ATcBq5ccw66kP9o/FF8PA7uUEMes4vbeun1/KDGO2XX7bs7Y/v+QJs/9R/F1HfD1En4Odxa3twA7kIpEPdrffh9dYtkY+BTpA+Y64C/AySXEsRopwf6d9MH3IPDBDO3OyPl9tnW3DPAoMF3StcCrtZ0R8a1cAUTEnyRtA7yNdJr1YES8lqv9OouKi7l/KWYH/x3YpIQ4at/7k5LeT6opNCxX4xFxuqQPAnuRfh+TI+KKXO3XmSxpQ+C/SaU31gXOKCGOUn8fAJIOAcYB/0o6m9wtIuYX3ZcPAOdkimNkEcf7gRuAD0TEnyVtCtwG/LLJIUyU9BPgRjrnq6a029YXVCVN7G5/RJyZoe39IuL3RSLpLoZm/6F0jWdX0j/KBsCXgPWBb0TE7ZnjOJh0BrM56Z92MHBmRGSpLVSMXloUEa9LehvpQ/e6kj5wS1f276OIYQrw04i4pZvH9o+IGzPFcQvwE+CyiHily2NHR0RTuzEl/QzYBriPumuE0aSL7G2d3GuKvruIugubGdo8MyImSjq/m4eb9guz5ZM0izRCZkPgdmAm8HJEfCRT+x+NiJ9JOrW7x3OeVbaCYjTbbyPiPWXHUjZJ90ZEtusubd0tI2kH0mnem4rtp4BjovlFyoiIicXtuGa3tTIkvRU4naVX4oF8oyIkfSYiviHpHLrU7i/iOCVHHKQDlpclHQ+cU8R0V6a2AQYVt1kvFnbVKr+P4gzqZUnrR8RzOdrsStK9dPMzoMmjVbpxu6TtIuL+HI21dXInVVU7NSJuApC0D/BjoOljzHs6Mqsp4QjtMuBc0vf/eua2Yekwv5kltF1PkvYkjYo4vtiX7e88In5U3Da9a3AFWuX3AbAIuFfSDcBLtZ0ZP/APztTOiuwFHCvpMVKfe1M/XNo9uQ+qJXaAiJhe9LnmUOqRWTcWR8QPy2o8Iq4pbqcASBqcNuOFzKFMAD4HXBER90l6C2lUVVbF+PKPAcPpfCaVpbuu6++jZNcWX6WIiMfLaruLA3M21tZ97pKuAP7M0vHcHwVGR8RhpQVVEkmTgPnAFXS+Ev905jhGk8byrkc6MnkWOC4iZuWMo2ySbiVdyJxF3ZlURFyeqf1r6L4rohbHITniaCWS9iBdVN4WWJM0JPKliBicOY5N6DyhrCkz6ts9uW9ImphRG/Z2CzApIp7JGMNbgO8Ae5D+mW4DPh0Rj+aKoYjjsW52R+SfoTobOCki/lBs7wX8IFe/ZnHE/BmWnfafc0Ymku6OiJ1yttml/XcXdz8I/Avws2L7KGBuRHw+YyytMnt6Jmm27GXAaOAY0mSzL2Rq/xDgm8CmpAOxLYEHImL7ZrTX1t0yRRI/pegCeCPnaJk6FwPfBw4vtscC04DdcwYRESNytrccL9QSO0BEzJCUs2tmKvBzUj/rx4FjgQUZ26/5laT3RcSvS2ibiLgZQNKXImLvuoeuKYYE5nQ+qUzIt0mzp8eRDsayi4iHJa0WEa+TZsvemrH5L5EOAn8XETtL2pf0YdsUbV1+QNKOxUiIe4H7JM0qRtBkDSMiLoqIxcXXz1jO6XBTA5F2kHSkpGNqXyWEcaekH0naR9K7Jf2ANNHs7fVlGppoo4j4KfBaRNxc9HHvkaHdriaQEvwrkp6X9IKk50uIY0hxdgmApBHAkMwxrF2MZVdEPB4Rk4CsZ1KFl4vaMndL+oakT7N0dFMOr0XEQmCApAHF9cKdmtVYWx+5Az9i2dEyk8kzWuZNxd2bJH0WuISU1MdQwsWjYkLXPqRT318DBwEzSDVmctqpuO06wewdpJ9Ps/+pS5+RCRARrXLB/dOkD9daN+Fw4ITMMbTK7OmjSQe0nyT9XDYndVvl8qxS1dhbgKmS5pNqQTVFu/e53xMRo1a0r0ltP0ZKVt2dXpbR130vMAq4KyJGKdU0/0lENK8wUQtqhRmZdbFsCGxN537m3F0iSFqLNDMSUnmMV5f3/Ca03yqzpydExHdWtK+J7Q8iDQsVaaju+sDU4mi+79tr8+Tu0TIFSXdGxG7FDM19gReAOc26WLOcONYnHbXX+nlvBs5q9gQWSRdExH8U948tewigpP9H6poZBtxN6hq6LfeF3SKWd7DskMzcZ3Slk/TniHh7l313RcTOZcXUTO3eLXMcabRMrY7LLaSLNdn01K9dwj/PTEkbkCYxzQJeBO7MHAPAecAc4Mhi+2jSBbVmn/7Wn61NAMoe3z2BVDH09ojYV6m4XPaJTZIuIhXsupulQzKDjN11PQzLfI40wepHEbGoye0fBfw7MEJS/RnceqSS0Fko1aH6OqlLSiydxNSUoZhtm9yLmhWXtUDNil3r7g8E9iedTWRN7hFxYnH3XEm/AQZHxOycMRT+NSI+VLd9pqS7M7TbaqegiyJikSQkrRURDyoVMsttNLBdlHuK/ijpIu60YnsMaYGdt5IORo5ucvu3Ak+SSg5/s27/C0DO/5FvkCpRZlmspG2TeyvUrCjiOLl+u+iWKGORDCRtRl1tGUl7l9DH+4qkvSJiRhHDO8mzeMkwSd8lHQ3V7i+Rcap7TUdxJnUlcIOkZ0gXd3ObQxrn/mQJbdfs3N1wzIjYW1KOOlCPA48Deza7rRWYlyuxQxsn90LZNSu68zLpIlpWkr5OOiK6n86n37mT+yeAKcWHnICnSYtmNNvpdfdLr6cSEbV5D5Mk3US6ePabEkLZGLhf0p10nrmcc4bqEElb1GZiStqiiAvgn81uvJhnsbzCYblmqM6U9HPSB37T67m3e3IvtWYFLNOfuBppavOlJYRyGGnJwawjIbqKiLuBUcXEMiIiy9jusi+gdqcYLbM56fT/BdKKTH/OHMakzO115z+BGZIeISXUEcCJxeiRpv/eWmhY6mDSwd+/1e0LmrRISFuPlgGQtDawRUQ8VFL7767bXAw8HhEdJcRxHXBESbN0Xce8C0lfIp2xPErnhRnKmLxTurrhmLXVypp6EbUVSXpnRPxxRfv6SlsfuUv6AHA2qQjQCEk7kYbdZTvljIibJf0LsBvpU/iRXG0DaGm97pdJM++6LuGVq4uqJeqYt5AjSReXm97t0J0W6oqo2YWlwzFHSuqPwzHPAbrO0u5uX59o6+ROOuXcDZgOqUugmF6dTTGe+Qzg96R/nHMknRUR52UKoda/PIu0Vmf9P3S2+h3ROnXMW8Uc0qSd+WU03kJdES0xHLNMSusLvIN07aH+zHYwqSu3Kdo9uS+OiOekTjksdz/T6aTRAAsBJG1EGnqVK7k/B2wWEd8v2r+TNOwsgP/KFMMSKrmOuaSBpEU6ulaFzL3s4deAuyTNobwLma2iFYZjlmlN0gLpq9P5zPZ54MPNarTdk/scSf8OrKZUVvQUUmLNqYN0sazmBeBvGds/nVSJsmZN0inwuqTJQ5dljAXgKtL0/99RzopQFwEPAgcAZ5GmeWcbflZnCmnCyr0s7XPvr1phOGZpigqdNxezqB+XNCgiXlrhCxvU7sn9ZOALpCOjacBvSbUrcvo7cIekq0hHy4eSKiOeClkuJK4ZEfUfJjMiLdDxtPKtSlVvnYjIfsZQZ6uIOELSoRExRdLFpL+L3J6KiO+u+Gn9QisMx2wFmxYDH9YFtpA0CjihbgJin2rr5B4RL5OSe5Zi+z14hM4XUa8qbnP1eW5YvxERn6zbzF3aFUquY87SqpDPKpV//gepiyi3WZK+RroOUp/Qcg+FbAWTyg6gRfwv6YzyaoCIuEfS3st9RQPaOrkrLen2eZbt3821mvmSC4i5TrW6cYekj0XEj+t3SjqBjLVl6kZnCPi8pFdJiTb36IzJxfjy/yb9E61LuuCdW60YVX0t+Rwlj1tO0S1hQET8rcs1wqZ1Xbb1OHdJD5H6nDv1a0bGBXGLK+E/BdaNiKafanXT/iYsnfFWOyrcBVgLOCwi5uWIw6wnXYZlrgmsQQlrl5ZN0i+AbwHfI33on0KqYjt2uS/sbXttntxnRMReJcdwB+mK99W10qGS5kRE1hWhJO1HGiECcF9E/D5n+3Vx3BgR+69oXxPbXwv4EMuezZ2Vo/26OEopfdwOJB0G7BYZ13FtBZI2Jq23/B7SGe31wIRm1XNv624ZYKKknwBdJ+40ZTpvT3Keai0nht+TxtqXohiCOAjYuOgWqf1ABpMWBM7lKtLw0FnU/U2UoKzSxy0vIq5UWr2sX4mIp0ijt7Jo9+Q+jjSleQ3qpnjTpFoNPfhbsRhCKK3PeArlDL0r2wnAp0iJvP6i4fOkBcRzGRYRB2ZsrydllT5uOUUd85oBpHHv7dtlsIokfSYivlE3m7yTZs0ib/fkPioidiw5ho+TTrU2I415vx7I0t/eSiItVfYdSSdHxDklhnKrpB0j4t4SY4DySh+3ovqlHhcDc0lDhvuLEyT9kczVStu9z/3HwLcj4v6yY6kpuiROjIivlB1LTrWjk+L+ERFxWd1jX83VvyrpfmAr4DFSt0xttE62EVRFHDuRJjLVlz4+NspZQMVKJOlTpHLcbwZ+Dkwrqqc2t902T+4PkGpWZP9HlrQ5abjdpsAVpElUZwHHkH55E5odQytR3fqU6rJWZdftJsexZXf7c46gqlcrfUwq7DYmIqaWEUcZeuqGqCl53YXsir/NscXXQFLOmBYRf2lGe+3eLVNm3+qFpBEQlxdx3A7cB4yMiH+UGFdZ1MP97rb7vnFpcFE7/oUVPrnJcQAnkbrpriKVYTgJOA24B+g3yZ3O3RBnkkYP9VvFAcbXga9L2pl00X0iTSoe1tZH7jXFWO/6IlF/zdDmPRExqm57HqmufKmLZZSl7CN3Sb+KiIMlPcbSyVQ1ERFvaWb7dXFcBTwD3EZaT3dD0tjuCTlOxVuVpLtqQ4X7K0lrkA4Ex5L+Nm4mHblf2Yz22vrIXdIhpAVvNyWVVt2SNFJl++W9rg/brx/y9w9gnVo9l6K+S38yStLzpJ/H2sV9iu2BPb+sb0TEwcXtMiWf1WWcapO9pXaRvxim+xTpQ7/UM4oW0P5Hkb0k6b3AUcD7SbPGLwHGN3tGe1snd1KRsD2A30XEzpL2Jf0Qc1ifNJa6PnHUhgAGkOVIsVVERNPqUq+Kopb+GXXbA0iVInONL67Vtqkt4v6YE3u/93ngYuC0nAd97Z7cX4uIhZIGSBoQETcpLRTddBExPEc7tsq2kPS5iPhaMVv1MvKuWzqqy1nL2nVnNDlr7JSuS9mBdbr8XPrNzyIi9i2j3XZP7s9KWhe4BZgqaT5pHK31X+NIfwufA/YFrouIb+dqvFXOYFpBtNBqUP1RW15QlbQVMJS0bNcrpFlvHyH1uV8bEbPKi87KIKn+gu0awI+AP5KKuvXXUrvWj7Vrcv8V8PmuE0KKEsATI+ID3b/SqkrSTct5OCKi35Xatf6tXZN7j1UXJd2buySBpNVIZxL1VQibPhzTOisunh4RET8vOxazsrVrn/vyhtatnS0KQNLJpIkI8+hcvCzrdHeDiHhD0kmkKd5m/Vq7Jvc/9bD60PGk4Yk5TQDe1qyazLbKbpB0GinBLxlH3A/nHVg/167dMkNJ9Vz+ydJkPpo0E/DwnNP/i77e90aER+m0gGKGalfZZqiatYq2TO41xaSlWt971tWHJJ1a3N0eeBtwLZ0XDPlWrljMzLpq124ZACLiJmB5oySaqTaG96/F15rFl5VI0jHd7Y+IC3PHYlamtj5yN+uqKDNbM5BUoOnPEfHhkkIyK4WTe4Mk3UAafvdssb0hcElEHFBqYAYsWaj6oog4pOxYzHIaUHYAFTCkltgBIuIZYJPywrEuXga2LjsIs9zaus+9RbwuaYvapKVitRWfDpVE0jUs/fkPALYDLi0vIrNyOLk37gvADEk3F9t7A+NLjKe/O7vu/mLg8YjoKCsYs7K4z70PSNqYVFdewG0R8VTJIRlLfi8Lw3/k1g+5z71BxSo/BwJvj4hrSHWrdys5rH5H0h6Spkv6paSdJc0B5gDzJJW51q5ZKXzk3iBJPyTVlNkvIrYtRstcHxG7lhxavyJpJmnFm/WBycBBEXG7pG1I61T26/U7rf/xkXvjdo+Ik4BFsGS0jCcz5bd6RFwfEZcB/4iI2wEi4sGS4zIrhZN7414rSv4GgKQhLK0OafnU/8xf6fKYT0+t3/FomcZ9l1TEbBNJXwE+DHyx3JD6pdrapfXrllJsL69EtFkluc+9DxT9uvuTEsmNEfFAySGZWT/nbpkGSfopMDAivh8R34uIByRNKjsuM+vfnNwbdwBwQZdqhK5jYmalcnJv3HzSrNQjJH1f0uqk7hkzs9I4uTdOEfF8RHwAWADcTBprbWZWGif3xl1duxMRk4CvAXPLCsbMDDxaptckbQUMjYg/dtm/N/D3iHiknMjMzHzk3oj/BV7oZv/LxWNmZqVxcu+94RExu+vOiJgJDM8fjpnZUk7uvbe8WY9rZ4vCzKwbTu699ydJH+u6U9LxwKwS4jEzW8IXVHtJ0lBSTZl/sjSZjyZVhDw8Iv5RVmxmZk7uDZK0L7BDsXlfRPy+zHjMzMDJ3cysktznbmZWQU7uZmYV5ORu1guSPiVpnbLjMOuJ+9zNekHSXGB0RDzVzWOrRcTr+aMyW8pH7lZZko6RNFvSPZIukrSlpBuLfTdK2qJ43gWSPlz3uheL230kTZf0C0kPSpqq5BRgU+AmSTfVXiPpLEl3AF+UdEXd+71X0i+zfvPW73kNVaskSdsDXwDeGRFPSXoTMAW4MCKmSDqOtP7tYSt4q52B7YEngD8W7/ddSacC+9YduQ8C5kTEGZIEPCBpSEQsAMYB5/f192i2PD5yt6raD/hFLflGxNPAnsDFxeMXAXutxPvcGREdEfEGcDc91w16Hbi8aCuK9/+opA2Kdq/r1Xdh1ks+creqErCiC0q1xxdTHOgUR91r1j3n1br7r9Pz/8yiLv3s5wPXAIuAyyJi8UrGbdYnfORuVXUjcKSkjQCKbplbgbHF4x8BZhT35wK7FPcPBdZYifd/AVivpwcj4glSV84XgQtWLXSzxvnI3SopIu6T9BXgZkmvA3cBpwDnSTqdtCTiuOLpPwauknQn6UPhpZVoYjJwnaQnI2LfHp4zFRgSEfc38r2Y9YaHQpo1iaTvAXdFxE/LjsX6Hyd3syaQNIt0BvDeiHh1Rc8362tO7mZmFeQLqmZmFeTkbmZWQU7uZmYV5ORuZlZBTu5mZhX0f05trfM+emt6AAAAAElFTkSuQmCC\n",
      "text/plain": [
       "<Figure size 432x180 with 1 Axes>"
      ]
     },
     "metadata": {
      "needs_background": "light"
     },
     "output_type": "display_data"
    },
    {
     "data": {
      "image/png": "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\n",
      "text/plain": [
       "<Figure size 432x180 with 1 Axes>"
      ]
     },
     "metadata": {
      "needs_background": "light"
     },
     "output_type": "display_data"
    },
    {
     "data": {
      "image/png": "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\n",
      "text/plain": [
       "<Figure size 432x180 with 1 Axes>"
      ]
     },
     "metadata": {
      "needs_background": "light"
     },
     "output_type": "display_data"
    },
    {
     "data": {
      "image/png": "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\n",
      "text/plain": [
       "<Figure size 432x180 with 1 Axes>"
      ]
     },
     "metadata": {
      "needs_background": "light"
     },
     "output_type": "display_data"
    }
   ],
   "source": [
    "#3. What is average watch time across different countries\n",
    "\n",
    "df_m1 = df_movies.explode('country')\n",
    "df_m1[\"country\"] = df_m1[\"country\"].str.lstrip()\n",
    "df_m1 = pd.DataFrame(df_m1.groupby([\"country\"])[\"duration\"].mean())\n",
    "df_t1 = df_tv.explode('country')\n",
    "df_t1[\"country\"] = df_t1[\"country\"].str.lstrip()\n",
    "df_t1 = pd.DataFrame(df_t1.groupby([\"country\"])[\"duration\"].mean())\n",
    "df_m1 = df_m1.rename(columns={'duration': 'Movie'}).sort_values([\"Movie\"],ascending=False)\n",
    "df_t1 = df_t1.rename(columns={'duration': 'TV Show'}).sort_values([\"TV Show\"],ascending=False)\n",
    "\n",
    "df_m1 = df_m1.reset_index().set_index(\"country\")\n",
    "df_t1 = df_t1.reset_index().set_index(\"country\")\n",
    "\n",
    "df_m1.head(10).plot.bar(color = 'red',figsize=(6,2.5))\n",
    "df_t1.head(10).plot.bar(color = 'red',figsize=(6,2.5))\n",
    "\n",
    "df_m1.tail(10).plot.bar(color = 'red',figsize=(6,2.5))\n",
    "df_t1.tail(10).plot.bar(color = 'red',figsize=(6,2.5))\n"
   ]
  },
  {
   "cell_type": "markdown",
   "id": "04a2ffd6",
   "metadata": {},
   "source": [
    "# Conclusion for question 3 : \n",
    "    \n",
    "The average watch time varies across countries , from the following graphs we can see top 10 & bottom 10 movies and TV shows according to average duration. This trend could be explained as few countries have good profits from the entertainment industry and are thus encouraged and few countries have restrictions on the content they produce, so it’s tough to increase the duration in those countries."
   ]
  },
  {
   "cell_type": "markdown",
   "id": "6b22978f",
   "metadata": {},
   "source": [
    "# 4.\tWhat is average watch time across different genres"
   ]
  },
  {
   "cell_type": "code",
   "execution_count": 16,
   "id": "2e1506dc",
   "metadata": {},
   "outputs": [
    {
     "data": {
      "text/plain": [
       "<AxesSubplot:xlabel='listed_in'>"
      ]
     },
     "execution_count": 16,
     "metadata": {},
     "output_type": "execute_result"
    },
    {
     "data": {
      "image/png": "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\n",
      "text/plain": [
       "<Figure size 432x180 with 1 Axes>"
      ]
     },
     "metadata": {
      "needs_background": "light"
     },
     "output_type": "display_data"
    },
    {
     "data": {
      "image/png": "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\n",
      "text/plain": [
       "<Figure size 432x180 with 1 Axes>"
      ]
     },
     "metadata": {
      "needs_background": "light"
     },
     "output_type": "display_data"
    },
    {
     "data": {
      "image/png": "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\n",
      "text/plain": [
       "<Figure size 432x180 with 1 Axes>"
      ]
     },
     "metadata": {
      "needs_background": "light"
     },
     "output_type": "display_data"
    },
    {
     "data": {
      "image/png": "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\n",
      "text/plain": [
       "<Figure size 432x180 with 1 Axes>"
      ]
     },
     "metadata": {
      "needs_background": "light"
     },
     "output_type": "display_data"
    }
   ],
   "source": [
    "#4. What is average watch time across different genres\n",
    "\n",
    "df_m1 = df_movies.explode('listed_in')\n",
    "df_m1['listed_in'] = df_m1['listed_in'].str.lstrip()\n",
    "df_m1 = pd.DataFrame(df_m1.groupby([\"listed_in\"])[\"duration\"].mean())\n",
    "df_t1 = df_tv.explode('listed_in')\n",
    "df_t1['listed_in'] = df_t1['listed_in'].str.lstrip()\n",
    "df_t1 = pd.DataFrame(df_t1.groupby([\"listed_in\"])[\"duration\"].mean())\n",
    "df_m1 = df_m1.rename(columns={'duration': 'Movie'}).sort_values([\"Movie\"],ascending=False)\n",
    "df_t1 = df_t1.rename(columns={'duration': 'TV Show'}).sort_values([\"TV Show\"],ascending=False)\n",
    "\n",
    "df_m1 = df_m1.reset_index().set_index(\"listed_in\")\n",
    "df_t1 = df_t1.reset_index().set_index(\"listed_in\")\n",
    "\n",
    "df_m1.head(10).plot.bar(color = 'red',figsize=(6,2.5))\n",
    "df_t1.head(10).plot.bar(color = 'red',figsize=(6,2.5))\n",
    "\n",
    "df_m1.tail(10).plot.bar(color = 'red',figsize=(6,2.5))\n",
    "df_t1.tail(10).plot.bar(color = 'red',figsize=(6,2.5))\n"
   ]
  },
  {
   "cell_type": "markdown",
   "id": "d88f352e",
   "metadata": {},
   "source": [
    "# Conclusion for question 4 : \n",
    "    \n",
    "\n",
    "In movies Classic genre, Action & Adventure have more average duration compared to comedy,Animes & documentaries. \n",
    "In TV shows Classic & cult, British & Korean TV shows have more duration compared to Thrillers & Reality TV shows."
   ]
  },
  {
   "cell_type": "markdown",
   "id": "b4f5b92c",
   "metadata": {},
   "source": [
    "# 5.\tHow did different genres dominate different times"
   ]
  },
  {
   "cell_type": "code",
   "execution_count": 17,
   "id": "8ecbb014",
   "metadata": {},
   "outputs": [
    {
     "name": "stdout",
     "output_type": "stream",
     "text": [
      "                    listed_in  release_year  title\n",
      "414                 Thrillers          2021     35\n",
      "413                 Thrillers          2020     11\n",
      "412                 Thrillers          2019      8\n",
      "256        Independent Movies          2018      8\n",
      "231             Horror Movies          2017      1\n",
      "161             Documentaries          2016      1\n",
      "80   Children & Family Movies          2015      4\n",
      "79   Children & Family Movies          2014      3\n",
      "200                    Dramas          2013      8\n",
      "250        Independent Movies          2012      7\n",
      "                        listed_in  release_year  title\n",
      "167                 Teen TV Shows          2021      8\n",
      "113         TV Action & Adventure          2020      3\n",
      "138                     TV Dramas          2019     14\n",
      "103     Spanish-Language TV Shows          2018      3\n",
      "107  Stand-Up Comedy & Talk Shows          2017      1\n",
      "31                     Docuseries          2016      1\n",
      "6                    Anime Series          2015      1\n",
      "150           TV Sci-Fi & Fantasy          2014      1\n",
      "4                    Anime Series          2013      2\n",
      "60                       Kids' TV          2012      1\n",
      "              listed_in  release_year  title\n",
      "5    Action & Adventure          1982      2\n",
      "172              Dramas          1981      1\n",
      "3    Action & Adventure          1980      1\n",
      "388           Thrillers          1978      1\n",
      "169              Dramas          1976      1\n",
      "1    Action & Adventure          1975      1\n",
      "151       Documentaries          1972      1\n",
      "88       Classic Movies          1964      1\n",
      "87       Classic Movies          1961      1\n",
      "167              Dramas          1959      1\n",
      "                     listed_in  release_year  title\n",
      "99   Spanish-Language TV Shows          2007      1\n",
      "161              Teen TV Shows          2006      1\n",
      "83           Romantic TV Shows          2005      1\n",
      "55                    Kids' TV          2003      1\n",
      "76                  Reality TV          2001      1\n",
      "54                    Kids' TV          1997      1\n",
      "53                    Kids' TV          1994      1\n",
      "52                    Kids' TV          1993      1\n",
      "115                TV Comedies          1992      1\n",
      "153                   TV Shows          1945      1\n"
     ]
    }
   ],
   "source": [
    "#5. How did different genres dominate different times\n",
    "df_m1 = df_movies.explode('listed_in')\n",
    "df_m1['listed_in'] = df_m1['listed_in'].str.lstrip()\n",
    "df_m1 = pd.DataFrame(df_m1.groupby([\"listed_in\",\"release_year\"])[\"title\"].count())\n",
    "df_t1 = df_tv.explode('listed_in')\n",
    "df_t1['listed_in'] = df_t1['listed_in'].str.lstrip()\n",
    "df_t1 = pd.DataFrame(df_t1.groupby([\"listed_in\",\"release_year\"])[\"title\"].count())\n",
    "df_m1 = df_m1.reset_index().sort_values([\"release_year\"],ascending=False).drop_duplicates(subset = [\"release_year\"],keep=\"first\")\n",
    "df_t1 = df_t1.reset_index().sort_values([\"release_year\"],ascending=False).drop_duplicates(subset = [\"release_year\"],keep=\"first\")\n",
    "print(df_m1.head(10))\n",
    "print(df_t1.head(10))\n",
    "\n",
    "print(df_m1.tail(10))\n",
    "print(df_t1.tail(10))"
   ]
  },
  {
   "cell_type": "markdown",
   "id": "631fead1",
   "metadata": {},
   "source": [
    "# Conclusion for question 5 :\n",
    "    \n",
    "    \n",
    "Comparatively Thrillers, Children & Family Movies have been produced in 2000’s compared to 1940’s when Action & Adventure, Classic Movies & Dramas have dominated. This helps us understand how the audience's tastes have shifted in the past 60 years. \n",
    "Similarly in TV shows Kids TV dominated last century whereas in 2000’s Anime Series, TV Dramas & Teen shows are more.\n"
   ]
  },
  {
   "cell_type": "markdown",
   "id": "3fcb56a9",
   "metadata": {},
   "source": [
    "# 6.\tHow did average watch time change as time progressed"
   ]
  },
  {
   "cell_type": "code",
   "execution_count": 18,
   "id": "8cc5ffcb",
   "metadata": {
    "scrolled": false
   },
   "outputs": [
    {
     "data": {
      "text/plain": [
       "array([<AxesSubplot:title={'center':'Movie'}, xlabel='release_year'>,\n",
       "       <AxesSubplot:title={'center':'TV Show'}, xlabel='release_year'>],\n",
       "      dtype=object)"
      ]
     },
     "execution_count": 18,
     "metadata": {},
     "output_type": "execute_result"
    },
    {
     "data": {
      "image/png": "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\n",
      "text/plain": [
       "<Figure size 432x360 with 2 Axes>"
      ]
     },
     "metadata": {
      "needs_background": "light"
     },
     "output_type": "display_data"
    },
    {
     "data": {
      "image/png": "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\n",
      "text/plain": [
       "<Figure size 432x360 with 2 Axes>"
      ]
     },
     "metadata": {
      "needs_background": "light"
     },
     "output_type": "display_data"
    }
   ],
   "source": [
    "#6. How did average watch time change as time progressed\n",
    "\n",
    "df_m = pd.DataFrame(df_movies.groupby([\"release_year\"])[\"duration\"].mean())\n",
    "df_t = pd.DataFrame(df_tv.groupby([\"release_year\"])[\"duration\"].mean())\n",
    "df2 = df_m.merge(df_t,on=['release_year'],how=\"outer\")\n",
    "df2 = df2.rename(columns={'duration_x': 'Movie','duration_y': 'TV Show'})\n",
    "df2 = df2.fillna(0).sort_values([\"release_year\"],ascending=False)\n",
    "df2 = df2.reset_index().set_index(\"release_year\")\n",
    "df2.head(10).plot.bar(subplots=True, color = {'red','red'}, figsize=(6,5))\n",
    "df2.tail(10).plot.bar(subplots=True,color = {'red','red'},figsize=(6,5))"
   ]
  },
  {
   "cell_type": "markdown",
   "id": "2ea9dc38",
   "metadata": {},
   "source": [
    "# Conclusion for question 6 :\n",
    "    \n",
    "    \n",
    "There is no particular trend in the duration over the last 10 years, it is almost around 90 min ± 10 min, compared to 1940-1980 where the duration is almost around 110 min ± 10 min. So we can say movie durations have been reduced in the last 60 years.  \n",
    "For TV shows the average length is 2 seasons in the last 10 years, but in the past there are far less TV shows with utmost 1 season. TV shows have started late after the movies started. So this makes sense.\n"
   ]
  },
  {
   "cell_type": "markdown",
   "id": "686ef030",
   "metadata": {},
   "source": [
    "# 7.\tIs there a relation between genre and rating"
   ]
  },
  {
   "cell_type": "code",
   "execution_count": 19,
   "id": "f4d6ac66",
   "metadata": {
    "scrolled": true
   },
   "outputs": [
    {
     "name": "stdout",
     "output_type": "stream",
     "text": [
      "                    listed_in rating  title\n",
      "73       International Movies  TV-MA    178\n",
      "50                     Dramas  TV-MA    129\n",
      "29                   Comedies  TV-MA     70\n",
      "2          Action & Adventure      R     66\n",
      "17   Children & Family Movies  TV-Y7     45\n",
      "42              Documentaries  TV-MA     38\n",
      "121                 Thrillers  TV-MA     35\n",
      "66         Independent Movies  TV-MA     34\n",
      "96            Romantic Movies  TV-14     31\n",
      "59              Horror Movies      R     25\n",
      "101          Sci-Fi & Fantasy  PG-13     20\n",
      "89           Music & Musicals  TV-MA     13\n",
      "116           Stand-Up Comedy  TV-MA     12\n",
      "6              Anime Features  TV-14     10\n",
      "78               LGBTQ Movies  TV-MA      9\n",
      "35                Cult Movies      R      8\n",
      "106             Sports Movies  PG-13      8\n",
      "21             Classic Movies      R      7\n",
      "56       Faith & Spirituality  TV-PG      4\n",
      "82                     Movies  TV-MA      4\n",
      "                    listed_in rating  title\n",
      "73       International Movies  TV-MA    178\n",
      "50                     Dramas  TV-MA    129\n",
      "29                   Comedies  TV-MA     70\n",
      "2          Action & Adventure      R     66\n",
      "17   Children & Family Movies  TV-Y7     45\n",
      "42              Documentaries  TV-MA     38\n",
      "121                 Thrillers  TV-MA     35\n",
      "66         Independent Movies  TV-MA     34\n",
      "96            Romantic Movies  TV-14     31\n",
      "59              Horror Movies      R     25\n",
      "101          Sci-Fi & Fantasy  PG-13     20\n",
      "89           Music & Musicals  TV-MA     13\n",
      "116           Stand-Up Comedy  TV-MA     12\n",
      "6              Anime Features  TV-14     10\n",
      "78               LGBTQ Movies  TV-MA      9\n",
      "35                Cult Movies      R      8\n",
      "106             Sports Movies  PG-13      8\n",
      "21             Classic Movies      R      7\n",
      "56       Faith & Spirituality  TV-PG      4\n",
      "82                     Movies  TV-MA      4\n"
     ]
    }
   ],
   "source": [
    "#7. Is there a relation between genre and rating\n",
    "\n",
    "df_m1 = df_movies.explode('listed_in')\n",
    "df_m1['listed_in'] = df_m1['listed_in'].str.lstrip()\n",
    "df_m1 = pd.DataFrame(df_m1.groupby([\"listed_in\",\"rating\"])[\"title\"].count())\n",
    "df_t1 = df_movies.explode('listed_in')\n",
    "df_t1['listed_in'] = df_t1['listed_in'].str.lstrip()\n",
    "df_t1 = pd.DataFrame(df_t1.groupby([\"listed_in\",\"rating\"])[\"title\"].count())\n",
    "df_m1 = df_m1.reset_index().sort_values([\"title\"],ascending=False).drop_duplicates(subset = [\"listed_in\"],keep=\"first\")\n",
    "df_t1 = df_t1.reset_index().sort_values([\"title\"],ascending=False).drop_duplicates(subset = [\"listed_in\"],keep=\"first\")\n",
    "\n",
    "print(df_m1.head(20))\n",
    "print(df_t1.head(23))\n"
   ]
  },
  {
   "cell_type": "markdown",
   "id": "5fad230a",
   "metadata": {},
   "source": [
    "# Conclusion for question 7 :\n",
    "    \n",
    "    \n",
    "R rated movies are mostly from Horror,Action & Adventure,  Classic & Cult genres. Sci-Fi & fantasy and Sports movies are mostly PG-13 rated in both movies & TV shows."
   ]
  },
  {
   "cell_type": "markdown",
   "id": "dccd94a0",
   "metadata": {},
   "source": [
    "# 8.\tIs there a relation between country and rating"
   ]
  },
  {
   "cell_type": "code",
   "execution_count": 20,
   "id": "3d22bba7",
   "metadata": {},
   "outputs": [
    {
     "name": "stdout",
     "output_type": "stream",
     "text": [
      "    rating        country  title\n",
      "57       R  United States    157\n",
      "33   PG-13  United States    125\n",
      "145  TV-MA  United States     51\n",
      "11      PG  United States     50\n",
      "68   TV-14          India     46\n",
      "155  TV-PG          Japan      9\n",
      "174   TV-Y  United States      5\n",
      "1        G  United States      3\n",
      "183  TV-Y7  United States      3\n",
      "91    TV-G      Indonesia      2\n",
      "    rating        country  title\n",
      "62   TV-MA  United States     74\n",
      "19   TV-14  United States     44\n",
      "87    TV-Y  United States     20\n",
      "75   TV-PG  United States     16\n",
      "24    TV-G  United States     13\n",
      "100  TV-Y7  United States     12\n"
     ]
    }
   ],
   "source": [
    "#8.Is there a relation between country and rating\n",
    "\n",
    "df_m1 = df_movies.explode('country')\n",
    "df_m1['country'] = df_m1['country'].str.lstrip()\n",
    "df_m1 = pd.DataFrame(df_m1.groupby([\"rating\",\"country\"])[\"title\"].count())\n",
    "df_t1 = df_tv.explode('country')\n",
    "df_t1['country'] = df_t1['country'].str.lstrip()\n",
    "df_t1 = pd.DataFrame(df_t1.groupby([\"rating\",\"country\"])[\"title\"].count())\n",
    "df_m1 = df_m1.reset_index().sort_values([\"title\"],ascending=False).drop_duplicates(subset = [\"rating\"],keep=\"first\")\n",
    "df_t1 = df_t1.reset_index().sort_values([\"title\"],ascending=False).drop_duplicates(subset = [\"rating\"],keep=\"first\")\n",
    "\n",
    "print(df_m1.head(20))\n",
    "print(df_t1.head(20))"
   ]
  },
  {
   "cell_type": "markdown",
   "id": "98b5765f",
   "metadata": {},
   "source": [
    "# Conclusion for question 8 : \n",
    "    \n",
    "    \n",
    "There are 10 types of ratings for movies and 6 types of ratings for TV shows. Since most of the content is from the US, a maximum number of shows or movies with different ratings have been produced by the US, except for TV-14(India), TV-PG(Japan) and TV-G(Indonasia) in movies. "
   ]
  },
  {
   "cell_type": "markdown",
   "id": "c69e25f5",
   "metadata": {},
   "source": [
    "# 9.\tIs there a relation between country and genre"
   ]
  },
  {
   "cell_type": "code",
   "execution_count": 21,
   "id": "d3b4cdfc",
   "metadata": {},
   "outputs": [
    {
     "name": "stdout",
     "output_type": "stream",
     "text": [
      "                    listed_in        country  title\n",
      "184                    Dramas  United States    159\n",
      "101                  Comedies  United States    129\n",
      "31         Action & Adventure  United States    115\n",
      "262      International Movies          India     77\n",
      "400                 Thrillers  United States     55\n",
      "55   Children & Family Movies  United States     55\n",
      "341           Romantic Movies  United States     48\n",
      "239        Independent Movies  United States     46\n",
      "127             Documentaries  United States     43\n",
      "357          Sci-Fi & Fantasy  United States     36\n",
      "209             Horror Movies  United States     33\n",
      "318          Music & Musicals  United States     19\n",
      "63             Classic Movies  United States     16\n",
      "33             Anime Features          Japan     14\n",
      "367             Sports Movies  United States     13\n",
      "107               Cult Movies  United States     12\n",
      "306              LGBTQ Movies  United States      7\n",
      "193      Faith & Spirituality  United States      6\n",
      "375           Stand-Up Comedy  United States      6\n",
      "307                    Movies  United States      1\n",
      "                        listed_in         country  title\n",
      "220                     TV Dramas   United States     52\n",
      "186                   TV Comedies   United States     50\n",
      "110                      Kids' TV   United States     43\n",
      "50                     Docuseries   United States     26\n",
      "12               British TV Shows  United Kingdom     26\n",
      "122                    Reality TV   United States     25\n",
      "70         International TV Shows           Japan     22\n",
      "40                 Crime TV Shows   United States     21\n",
      "166         TV Action & Adventure   United States     21\n",
      "3                    Anime Series           Japan     20\n",
      "245           TV Sci-Fi & Fantasy   United States     16\n",
      "137             Romantic TV Shows   United States     13\n",
      "227                     TV Horror   United States     11\n",
      "259                 Teen TV Shows   United States     10\n",
      "239                  TV Mysteries   United States     10\n",
      "146     Spanish-Language TV Shows           Spain     10\n",
      "112               Korean TV Shows     South Korea      9\n",
      "253                  TV Thrillers   United States      8\n",
      "141           Science & Nature TV   United States      6\n",
      "247                      TV Shows   United States      2\n",
      "149  Stand-Up Comedy & Talk Shows     South Korea      2\n",
      "13              Classic & Cult TV       Argentina      1\n"
     ]
    }
   ],
   "source": [
    "#9.Is there a relation between country and genre\n",
    "df_m1 = df_movies.explode('listed_in').explode('country')\n",
    "df_m1['country'] = df_m1['country'].str.lstrip()\n",
    "df_m1['listed_in'] = df_m1['listed_in'].str.lstrip()\n",
    "df_m1 = pd.DataFrame(df_m1.groupby([\"listed_in\",\"country\"])[\"title\"].count())\n",
    "df_t1 = df_tv.explode('listed_in').explode('country')\n",
    "df_t1['country'] = df_t1['country'].str.lstrip()\n",
    "df_t1['listed_in'] = df_t1['listed_in'].str.lstrip()\n",
    "df_t1 = pd.DataFrame(df_t1.groupby([\"listed_in\",\"country\"])[\"title\"].count())\n",
    "df_m1 = df_m1.reset_index().sort_values([\"title\"],ascending=False).drop_duplicates(subset = [\"listed_in\"],keep=\"first\")\n",
    "df_t1 = df_t1.reset_index().sort_values([\"title\"],ascending=False).drop_duplicates(subset = [\"listed_in\"],keep=\"first\")\n",
    "print(df_m1.head(43))\n",
    "print(df_t1.head(43))"
   ]
  },
  {
   "cell_type": "markdown",
   "id": "4433159c",
   "metadata": {},
   "source": [
    "# Conclusion for question 9 :\n",
    "    \n",
    "    \n",
    "From 43 genres in the data, 20 are for movies and 23 for TV shows. The content for large number of these genres is dominantly produced in US, except for few genres like :\n",
    "\n",
    "\n",
    "\n",
    "1.\tInternational Movies - India\n",
    "2.\tAnime Features - Japan\n",
    "3.\tInternational TV shows - Japan\n",
    "4.\tAnime Series - Japan\n",
    "5.\tStand up Comedy  talk Shows - South Korea\n",
    "6.\tClassic & Cult TV - Argentina\n",
    "\n",
    "\n",
    "There are also some regional genres, specific to countries like \n",
    "\n",
    "\n",
    "1.\tBritish TV shows - United Kingdom\n",
    "2.\tSpanish Language TV shows - Spain\n",
    "3.\tKorean TV shows - South Korea\n"
   ]
  },
  {
   "cell_type": "markdown",
   "id": "d343b09b",
   "metadata": {},
   "source": [
    "# 10.\tHow many movies/TV shows have been listed in more than one genre"
   ]
  },
  {
   "cell_type": "code",
   "execution_count": 22,
   "id": "bd507dde",
   "metadata": {},
   "outputs": [
    {
     "name": "stdout",
     "output_type": "stream",
     "text": [
      "1156\n",
      "759\n",
      "397\n"
     ]
    },
    {
     "name": "stderr",
     "output_type": "stream",
     "text": [
      "/var/folders/vl/f75sngb51hb6v5qnqz3c8pp80000gn/T/ipykernel_50434/2386888756.py:5: UserWarning: Boolean Series key will be reindexed to match DataFrame index.\n",
      "  print(df[df['type']==\"Movie\"][df[\"num_genres\"]>1][\"title\"].count())\n",
      "/var/folders/vl/f75sngb51hb6v5qnqz3c8pp80000gn/T/ipykernel_50434/2386888756.py:6: UserWarning: Boolean Series key will be reindexed to match DataFrame index.\n",
      "  print(df[df['type']==\"TV Show\"][df[\"num_genres\"]>1][\"title\"].count())\n"
     ]
    }
   ],
   "source": [
    "#10.How many movies/TV shows have been listed in more than one genre\n",
    "\n",
    "df[\"num_genres\"] = df[\"listed_in\"].str.len()\n",
    "print(df[df[\"num_genres\"]>1][\"title\"].count())\n",
    "print(df[df['type']==\"Movie\"][df[\"num_genres\"]>1][\"title\"].count())\n",
    "print(df[df['type']==\"TV Show\"][df[\"num_genres\"]>1][\"title\"].count())"
   ]
  },
  {
   "cell_type": "markdown",
   "id": "03dbd5eb",
   "metadata": {},
   "source": [
    "# Conclusion for question 10 :\n",
    "    \n",
    "    \n",
    "There are 1156 (397 TV Shows &  759 Movies )listed as more than one genre, that is around 77% of content belongs to multiple genres.\n"
   ]
  }
 ],
 "metadata": {
  "kernelspec": {
   "display_name": "Python 3 (ipykernel)",
   "language": "python",
   "name": "python3"
  },
  "language_info": {
   "codemirror_mode": {
    "name": "ipython",
    "version": 3
   },
   "file_extension": ".py",
   "mimetype": "text/x-python",
   "name": "python",
   "nbconvert_exporter": "python",
   "pygments_lexer": "ipython3",
   "version": "3.9.12"
  }
 },
 "nbformat": 4,
 "nbformat_minor": 5
}
